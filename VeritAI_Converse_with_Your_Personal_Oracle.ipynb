{
  "nbformat": 4,
  "nbformat_minor": 0,
  "metadata": {
    "colab": {
      "provenance": [],
      "authorship_tag": "ABX9TyPW31v05F5DfkczAg3dhDJJ",
      "include_colab_link": true
    },
    "kernelspec": {
      "name": "python3",
      "display_name": "Python 3"
    },
    "language_info": {
      "name": "python"
    }
  },
  "cells": [
    {
      "cell_type": "markdown",
      "metadata": {
        "id": "view-in-github",
        "colab_type": "text"
      },
      "source": [
        "<a href=\"https://colab.research.google.com/github/MuriloKrominski/VeritAI-Converse_with_Your_Personal_Oracle/blob/main/VeritAI_Converse_with_Your_Personal_Oracle.ipynb\" target=\"_parent\"><img src=\"https://colab.research.google.com/assets/colab-badge.svg\" alt=\"Open In Colab\"/></a>"
      ]
    },
    {
      "cell_type": "code",
      "execution_count": null,
      "metadata": {
        "id": "pXh5j4l0Yb8r"
      },
      "outputs": [],
      "source": []
    },
    {
      "cell_type": "markdown",
      "source": [
        "# VeritAI - Converse with Your Personal Oracle"
      ],
      "metadata": {
        "id": "niIHZA2taHld"
      }
    },
    {
      "cell_type": "markdown",
      "source": [
        "Groq API Key VeritAI Krominski = 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"
      ],
      "metadata": {
        "id": "15RssowpYdaf"
      }
    }
  ]
}